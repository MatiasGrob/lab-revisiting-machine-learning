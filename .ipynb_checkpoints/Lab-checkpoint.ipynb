{
 "cells": [
  {
   "cell_type": "code",
   "execution_count": 1,
   "id": "d4f0c2b4",
   "metadata": {},
   "outputs": [],
   "source": [
    "import pandas as pd\n",
    "import numpy as np\n",
    "import matplotlib.pyplot as plt\n",
    "import seaborn as sns \n",
    "pd.set_option('display.max_columns', None)\n"
   ]
  },
  {
   "cell_type": "code",
   "execution_count": 2,
   "id": "e8a5a70f",
   "metadata": {},
   "outputs": [
    {
     "ename": "FileNotFoundError",
     "evalue": "[Errno 2] No such file or directory: 'learningSet.csv'",
     "output_type": "error",
     "traceback": [
      "\u001b[0;31m---------------------------------------------------------------------------\u001b[0m",
      "\u001b[0;31mFileNotFoundError\u001b[0m                         Traceback (most recent call last)",
      "\u001b[0;32m/var/folders/y5/7v3j89sd4ps24p3x50lkvwf80000gn/T/ipykernel_18288/3673836359.py\u001b[0m in \u001b[0;36m<module>\u001b[0;34m\u001b[0m\n\u001b[0;32m----> 1\u001b[0;31m \u001b[0mdata\u001b[0m \u001b[0;34m=\u001b[0m \u001b[0mpd\u001b[0m\u001b[0;34m.\u001b[0m\u001b[0mread_csv\u001b[0m\u001b[0;34m(\u001b[0m\u001b[0;34m'learningSet.csv'\u001b[0m\u001b[0;34m)\u001b[0m\u001b[0;34m\u001b[0m\u001b[0;34m\u001b[0m\u001b[0m\n\u001b[0m",
      "\u001b[0;32m~/opt/anaconda3/lib/python3.9/site-packages/pandas/util/_decorators.py\u001b[0m in \u001b[0;36mwrapper\u001b[0;34m(*args, **kwargs)\u001b[0m\n\u001b[1;32m    309\u001b[0m                     \u001b[0mstacklevel\u001b[0m\u001b[0;34m=\u001b[0m\u001b[0mstacklevel\u001b[0m\u001b[0;34m,\u001b[0m\u001b[0;34m\u001b[0m\u001b[0;34m\u001b[0m\u001b[0m\n\u001b[1;32m    310\u001b[0m                 )\n\u001b[0;32m--> 311\u001b[0;31m             \u001b[0;32mreturn\u001b[0m \u001b[0mfunc\u001b[0m\u001b[0;34m(\u001b[0m\u001b[0;34m*\u001b[0m\u001b[0margs\u001b[0m\u001b[0;34m,\u001b[0m \u001b[0;34m**\u001b[0m\u001b[0mkwargs\u001b[0m\u001b[0;34m)\u001b[0m\u001b[0;34m\u001b[0m\u001b[0;34m\u001b[0m\u001b[0m\n\u001b[0m\u001b[1;32m    312\u001b[0m \u001b[0;34m\u001b[0m\u001b[0m\n\u001b[1;32m    313\u001b[0m         \u001b[0;32mreturn\u001b[0m \u001b[0mwrapper\u001b[0m\u001b[0;34m\u001b[0m\u001b[0;34m\u001b[0m\u001b[0m\n",
      "\u001b[0;32m~/opt/anaconda3/lib/python3.9/site-packages/pandas/io/parsers/readers.py\u001b[0m in \u001b[0;36mread_csv\u001b[0;34m(filepath_or_buffer, sep, delimiter, header, names, index_col, usecols, squeeze, prefix, mangle_dupe_cols, dtype, engine, converters, true_values, false_values, skipinitialspace, skiprows, skipfooter, nrows, na_values, keep_default_na, na_filter, verbose, skip_blank_lines, parse_dates, infer_datetime_format, keep_date_col, date_parser, dayfirst, cache_dates, iterator, chunksize, compression, thousands, decimal, lineterminator, quotechar, quoting, doublequote, escapechar, comment, encoding, encoding_errors, dialect, error_bad_lines, warn_bad_lines, on_bad_lines, delim_whitespace, low_memory, memory_map, float_precision, storage_options)\u001b[0m\n\u001b[1;32m    676\u001b[0m     \u001b[0mkwds\u001b[0m\u001b[0;34m.\u001b[0m\u001b[0mupdate\u001b[0m\u001b[0;34m(\u001b[0m\u001b[0mkwds_defaults\u001b[0m\u001b[0;34m)\u001b[0m\u001b[0;34m\u001b[0m\u001b[0;34m\u001b[0m\u001b[0m\n\u001b[1;32m    677\u001b[0m \u001b[0;34m\u001b[0m\u001b[0m\n\u001b[0;32m--> 678\u001b[0;31m     \u001b[0;32mreturn\u001b[0m \u001b[0m_read\u001b[0m\u001b[0;34m(\u001b[0m\u001b[0mfilepath_or_buffer\u001b[0m\u001b[0;34m,\u001b[0m \u001b[0mkwds\u001b[0m\u001b[0;34m)\u001b[0m\u001b[0;34m\u001b[0m\u001b[0;34m\u001b[0m\u001b[0m\n\u001b[0m\u001b[1;32m    679\u001b[0m \u001b[0;34m\u001b[0m\u001b[0m\n\u001b[1;32m    680\u001b[0m \u001b[0;34m\u001b[0m\u001b[0m\n",
      "\u001b[0;32m~/opt/anaconda3/lib/python3.9/site-packages/pandas/io/parsers/readers.py\u001b[0m in \u001b[0;36m_read\u001b[0;34m(filepath_or_buffer, kwds)\u001b[0m\n\u001b[1;32m    573\u001b[0m \u001b[0;34m\u001b[0m\u001b[0m\n\u001b[1;32m    574\u001b[0m     \u001b[0;31m# Create the parser.\u001b[0m\u001b[0;34m\u001b[0m\u001b[0;34m\u001b[0m\u001b[0m\n\u001b[0;32m--> 575\u001b[0;31m     \u001b[0mparser\u001b[0m \u001b[0;34m=\u001b[0m \u001b[0mTextFileReader\u001b[0m\u001b[0;34m(\u001b[0m\u001b[0mfilepath_or_buffer\u001b[0m\u001b[0;34m,\u001b[0m \u001b[0;34m**\u001b[0m\u001b[0mkwds\u001b[0m\u001b[0;34m)\u001b[0m\u001b[0;34m\u001b[0m\u001b[0;34m\u001b[0m\u001b[0m\n\u001b[0m\u001b[1;32m    576\u001b[0m \u001b[0;34m\u001b[0m\u001b[0m\n\u001b[1;32m    577\u001b[0m     \u001b[0;32mif\u001b[0m \u001b[0mchunksize\u001b[0m \u001b[0;32mor\u001b[0m \u001b[0miterator\u001b[0m\u001b[0;34m:\u001b[0m\u001b[0;34m\u001b[0m\u001b[0;34m\u001b[0m\u001b[0m\n",
      "\u001b[0;32m~/opt/anaconda3/lib/python3.9/site-packages/pandas/io/parsers/readers.py\u001b[0m in \u001b[0;36m__init__\u001b[0;34m(self, f, engine, **kwds)\u001b[0m\n\u001b[1;32m    930\u001b[0m \u001b[0;34m\u001b[0m\u001b[0m\n\u001b[1;32m    931\u001b[0m         \u001b[0mself\u001b[0m\u001b[0;34m.\u001b[0m\u001b[0mhandles\u001b[0m\u001b[0;34m:\u001b[0m \u001b[0mIOHandles\u001b[0m \u001b[0;34m|\u001b[0m \u001b[0;32mNone\u001b[0m \u001b[0;34m=\u001b[0m \u001b[0;32mNone\u001b[0m\u001b[0;34m\u001b[0m\u001b[0;34m\u001b[0m\u001b[0m\n\u001b[0;32m--> 932\u001b[0;31m         \u001b[0mself\u001b[0m\u001b[0;34m.\u001b[0m\u001b[0m_engine\u001b[0m \u001b[0;34m=\u001b[0m \u001b[0mself\u001b[0m\u001b[0;34m.\u001b[0m\u001b[0m_make_engine\u001b[0m\u001b[0;34m(\u001b[0m\u001b[0mf\u001b[0m\u001b[0;34m,\u001b[0m \u001b[0mself\u001b[0m\u001b[0;34m.\u001b[0m\u001b[0mengine\u001b[0m\u001b[0;34m)\u001b[0m\u001b[0;34m\u001b[0m\u001b[0;34m\u001b[0m\u001b[0m\n\u001b[0m\u001b[1;32m    933\u001b[0m \u001b[0;34m\u001b[0m\u001b[0m\n\u001b[1;32m    934\u001b[0m     \u001b[0;32mdef\u001b[0m \u001b[0mclose\u001b[0m\u001b[0;34m(\u001b[0m\u001b[0mself\u001b[0m\u001b[0;34m)\u001b[0m\u001b[0;34m:\u001b[0m\u001b[0;34m\u001b[0m\u001b[0;34m\u001b[0m\u001b[0m\n",
      "\u001b[0;32m~/opt/anaconda3/lib/python3.9/site-packages/pandas/io/parsers/readers.py\u001b[0m in \u001b[0;36m_make_engine\u001b[0;34m(self, f, engine)\u001b[0m\n\u001b[1;32m   1214\u001b[0m             \u001b[0;31m# \"Union[str, PathLike[str], ReadCsvBuffer[bytes], ReadCsvBuffer[str]]\"\u001b[0m\u001b[0;34m\u001b[0m\u001b[0;34m\u001b[0m\u001b[0m\n\u001b[1;32m   1215\u001b[0m             \u001b[0;31m# , \"str\", \"bool\", \"Any\", \"Any\", \"Any\", \"Any\", \"Any\"\u001b[0m\u001b[0;34m\u001b[0m\u001b[0;34m\u001b[0m\u001b[0m\n\u001b[0;32m-> 1216\u001b[0;31m             self.handles = get_handle(  # type: ignore[call-overload]\n\u001b[0m\u001b[1;32m   1217\u001b[0m                 \u001b[0mf\u001b[0m\u001b[0;34m,\u001b[0m\u001b[0;34m\u001b[0m\u001b[0;34m\u001b[0m\u001b[0m\n\u001b[1;32m   1218\u001b[0m                 \u001b[0mmode\u001b[0m\u001b[0;34m,\u001b[0m\u001b[0;34m\u001b[0m\u001b[0;34m\u001b[0m\u001b[0m\n",
      "\u001b[0;32m~/opt/anaconda3/lib/python3.9/site-packages/pandas/io/common.py\u001b[0m in \u001b[0;36mget_handle\u001b[0;34m(path_or_buf, mode, encoding, compression, memory_map, is_text, errors, storage_options)\u001b[0m\n\u001b[1;32m    784\u001b[0m         \u001b[0;32mif\u001b[0m \u001b[0mioargs\u001b[0m\u001b[0;34m.\u001b[0m\u001b[0mencoding\u001b[0m \u001b[0;32mand\u001b[0m \u001b[0;34m\"b\"\u001b[0m \u001b[0;32mnot\u001b[0m \u001b[0;32min\u001b[0m \u001b[0mioargs\u001b[0m\u001b[0;34m.\u001b[0m\u001b[0mmode\u001b[0m\u001b[0;34m:\u001b[0m\u001b[0;34m\u001b[0m\u001b[0;34m\u001b[0m\u001b[0m\n\u001b[1;32m    785\u001b[0m             \u001b[0;31m# Encoding\u001b[0m\u001b[0;34m\u001b[0m\u001b[0;34m\u001b[0m\u001b[0m\n\u001b[0;32m--> 786\u001b[0;31m             handle = open(\n\u001b[0m\u001b[1;32m    787\u001b[0m                 \u001b[0mhandle\u001b[0m\u001b[0;34m,\u001b[0m\u001b[0;34m\u001b[0m\u001b[0;34m\u001b[0m\u001b[0m\n\u001b[1;32m    788\u001b[0m                 \u001b[0mioargs\u001b[0m\u001b[0;34m.\u001b[0m\u001b[0mmode\u001b[0m\u001b[0;34m,\u001b[0m\u001b[0;34m\u001b[0m\u001b[0;34m\u001b[0m\u001b[0m\n",
      "\u001b[0;31mFileNotFoundError\u001b[0m: [Errno 2] No such file or directory: 'learningSet.csv'"
     ]
    }
   ],
   "source": [
    "data = pd.read_csv('learningSet.csv')"
   ]
  },
  {
   "cell_type": "code",
   "execution_count": null,
   "id": "98ec219b",
   "metadata": {},
   "outputs": [],
   "source": [
    "print(data.shape)\n",
    "data.head(10)"
   ]
  },
  {
   "cell_type": "code",
   "execution_count": null,
   "id": "9c8be5c6",
   "metadata": {},
   "outputs": [],
   "source": [
    "cat = data.select_dtypes(exclude=[np.number])"
   ]
  },
  {
   "cell_type": "code",
   "execution_count": null,
   "id": "a0eeada8",
   "metadata": {},
   "outputs": [],
   "source": [
    "cat"
   ]
  },
  {
   "cell_type": "code",
   "execution_count": null,
   "id": "5ff87b97",
   "metadata": {},
   "outputs": [],
   "source": [
    "#We work with the genre column first\n",
    "#Reduce the number of categories in the column GENDER. \n",
    "#The column should only have either \"M\" for males, \"F\" for females, and \"other\" for all the rest"
   ]
  },
  {
   "cell_type": "code",
   "execution_count": null,
   "id": "d8b4204c",
   "metadata": {},
   "outputs": [],
   "source": [
    "df_gender = pd.DataFrame(cat['GENDER'].value_counts()).reset_index()\n",
    "df_gender.columns = ['GENDER', 'count']\n",
    "df_gender"
   ]
  },
  {
   "cell_type": "code",
   "execution_count": null,
   "id": "ef98bd94",
   "metadata": {},
   "outputs": [],
   "source": [
    "other_genders = list(df_gender[df_gender['count'] < 2000]['GENDER'])   # threshold of 2500 for genders\n",
    "#other_genders\n",
    "def clean_gender(x):\n",
    "    if x in other_genders:\n",
    "        return 'other'\n",
    "    else:\n",
    "        return x\n",
    "    \n",
    "cat['GENDER'] = list(map(clean_gender, cat['GENDER']))\n",
    "cat['GENDER'].value_counts()"
   ]
  },
  {
   "cell_type": "code",
   "execution_count": null,
   "id": "955f878a",
   "metadata": {},
   "outputs": [],
   "source": [
    "cat['GENDER'] = cat['GENDER'].replace(' ', \"F\")\n",
    "cat['GENDER'].value_counts()"
   ]
  },
  {
   "cell_type": "code",
   "execution_count": null,
   "id": "888ff32a",
   "metadata": {},
   "outputs": [],
   "source": [
    "df = cat.apply(lambda x: x.str.strip()).replace('', np.nan)"
   ]
  },
  {
   "cell_type": "code",
   "execution_count": null,
   "id": "f8f75879",
   "metadata": {},
   "outputs": [],
   "source": [
    "df"
   ]
  },
  {
   "cell_type": "code",
   "execution_count": null,
   "id": "e072270b",
   "metadata": {},
   "outputs": [],
   "source": [
    "#Check for null values in all the columns"
   ]
  },
  {
   "cell_type": "code",
   "execution_count": null,
   "id": "fdf1a6b4",
   "metadata": {},
   "outputs": [],
   "source": [
    "df.isna().sum()"
   ]
  },
  {
   "cell_type": "code",
   "execution_count": null,
   "id": "499a78fc",
   "metadata": {},
   "outputs": [],
   "source": []
  },
  {
   "cell_type": "code",
   "execution_count": null,
   "id": "88b98552",
   "metadata": {},
   "outputs": [],
   "source": [
    "#different view\n",
    "nulls_percent_df = pd.DataFrame(df.isna().sum()/len(df)).reset_index()\n",
    "nulls_percent_df\n",
    "nulls_percent_df.columns = ['column_name', 'nulls_percentage']\n",
    "nulls_percent_df"
   ]
  },
  {
   "cell_type": "code",
   "execution_count": null,
   "id": "3a4a6b77",
   "metadata": {},
   "outputs": [],
   "source": [
    "nulls_percent_df[nulls_percent_df['nulls_percentage']!=0].head(60)"
   ]
  },
  {
   "cell_type": "code",
   "execution_count": null,
   "id": "3da35071",
   "metadata": {},
   "outputs": [],
   "source": [
    "nulls_percent_df[nulls_percent_df['nulls_percentage']!=0].tail(32)"
   ]
  },
  {
   "cell_type": "code",
   "execution_count": null,
   "id": "31491672",
   "metadata": {},
   "outputs": [],
   "source": [
    "#Create a new empty list called drop_list. \n",
    "drop_list = ['OSOURCE', 'ZIP']"
   ]
  },
  {
   "cell_type": "code",
   "execution_count": null,
   "id": "8c33861f",
   "metadata": {},
   "outputs": [],
   "source": [
    "#Identify columns that over 85% missing values\n",
    "columns_above_threshold = nulls_percent_df[nulls_percent_df['nulls_percentage']>0.85]\n",
    "columns_above_threshold['column_name']"
   ]
  },
  {
   "cell_type": "code",
   "execution_count": null,
   "id": "90e0af0d",
   "metadata": {},
   "outputs": [],
   "source": [
    "#Remove those columns from the dataframe"
   ]
  },
  {
   "cell_type": "code",
   "execution_count": null,
   "id": "b78748fc",
   "metadata": {},
   "outputs": [],
   "source": [
    "drop_columns_list = list(columns_above_threshold[\"column_name\"])"
   ]
  },
  {
   "cell_type": "code",
   "execution_count": null,
   "id": "651c39bc",
   "metadata": {},
   "outputs": [],
   "source": [
    "for i in drop_columns_list:\n",
    "    drop_list.append(i)\n",
    "print(drop_list)\n",
    "len(drop_list)"
   ]
  },
  {
   "cell_type": "code",
   "execution_count": null,
   "id": "0f070b9e",
   "metadata": {},
   "outputs": [],
   "source": [
    "cats_clean = df.drop(columns= drop_list)\n",
    "cats_clean"
   ]
  },
  {
   "cell_type": "code",
   "execution_count": null,
   "id": "2ea7434f",
   "metadata": {},
   "outputs": [],
   "source": [
    "#Lab 2"
   ]
  },
  {
   "cell_type": "code",
   "execution_count": null,
   "id": "a5002863",
   "metadata": {},
   "outputs": [],
   "source": [
    "numerical = data.select_dtypes(np.number)"
   ]
  },
  {
   "cell_type": "code",
   "execution_count": null,
   "id": "000bb8d9",
   "metadata": {},
   "outputs": [],
   "source": [
    "numerical.head()"
   ]
  },
  {
   "cell_type": "code",
   "execution_count": null,
   "id": "15b888ae",
   "metadata": {},
   "outputs": [],
   "source": [
    "#Check for null values in the numerical columns.\n",
    "nulls_percent_df = pd.DataFrame(numerical.isna().sum()/len(numerical)).reset_index()\n",
    "nulls_percent_df\n",
    "nulls_percent_df.columns = ['column_name', 'nulls_percentage']\n",
    "nulls_percent_df"
   ]
  },
  {
   "cell_type": "code",
   "execution_count": null,
   "id": "be96b05b",
   "metadata": {},
   "outputs": [],
   "source": [
    "df = nulls_percent_df.copy()\n",
    "df"
   ]
  },
  {
   "cell_type": "code",
   "execution_count": null,
   "id": "5735b895",
   "metadata": {},
   "outputs": [],
   "source": [
    "#We sort the NaN values for better view\n",
    "df.sort_values(by=['nulls_percentage'], inplace=True, ascending=False)\n",
    "df.head(30)"
   ]
  },
  {
   "cell_type": "code",
   "execution_count": null,
   "id": "dc6fef45",
   "metadata": {},
   "outputs": [],
   "source": [
    "#Use appropriate methods to clean the columns GEOCODE2, WEALTH1, ADI, DMA,and MSA."
   ]
  },
  {
   "cell_type": "code",
   "execution_count": null,
   "id": "3711a09c",
   "metadata": {},
   "outputs": [],
   "source": [
    "cats_clean['GEOCODE2'].value_counts(dropna=False)"
   ]
  },
  {
   "cell_type": "code",
   "execution_count": null,
   "id": "6d2f5c14",
   "metadata": {},
   "outputs": [],
   "source": [
    "#we drop NaN values (small number)\n",
    "cats_clean.dropna(inplace=True)"
   ]
  },
  {
   "cell_type": "code",
   "execution_count": null,
   "id": "264445d4",
   "metadata": {},
   "outputs": [],
   "source": [
    "cats_clean['GEOCODE2'].value_counts(dropna=False)"
   ]
  },
  {
   "cell_type": "code",
   "execution_count": null,
   "id": "583c9120",
   "metadata": {},
   "outputs": [],
   "source": [
    "nulls_percent_numerical = pd.DataFrame(numerical.isna().sum()/len(numerical)).reset_index()\n",
    "nulls_percent_numerical\n",
    "nulls_percent_numerical.columns = ['column_name', 'nulls_percentage']\n",
    "nulls_percent_numerical"
   ]
  },
  {
   "cell_type": "code",
   "execution_count": null,
   "id": "f70163c7",
   "metadata": {},
   "outputs": [],
   "source": [
    "#other view\n",
    "nulls_percent_numerical[nulls_percent_numerical['nulls_percentage']!=0]"
   ]
  },
  {
   "cell_type": "code",
   "execution_count": null,
   "id": "dd394f67",
   "metadata": {},
   "outputs": [],
   "source": [
    "nulls_percent_numerical[nulls_percent_numerical['nulls_percentage']>0.85]"
   ]
  },
  {
   "cell_type": "code",
   "execution_count": null,
   "id": "e9603925",
   "metadata": {},
   "outputs": [],
   "source": [
    "columns_above_threshold_numerical = nulls_percent_numerical[nulls_percent_numerical['nulls_percentage']>0.85]"
   ]
  },
  {
   "cell_type": "code",
   "execution_count": null,
   "id": "d42d55c3",
   "metadata": {},
   "outputs": [],
   "source": [
    "drop_columns_list_numerical = list(columns_above_threshold_numerical['column_name'])\n",
    "print(drop_columns_list_numerical)"
   ]
  },
  {
   "cell_type": "code",
   "execution_count": null,
   "id": "2bc61006",
   "metadata": {},
   "outputs": [],
   "source": [
    "numerical = numerical.drop(columns=drop_columns_list_numerical, axis=1)"
   ]
  },
  {
   "cell_type": "code",
   "execution_count": null,
   "id": "5dececd6",
   "metadata": {},
   "outputs": [],
   "source": [
    "nulls_percent_numerical = pd.DataFrame(numerical.isna().sum()/len(numerical)).reset_index()\n",
    "nulls_percent_numerical\n",
    "nulls_percent_numerical.columns = ['column_name', 'nulls_percentage']\n",
    "nulls_percent_numerical"
   ]
  },
  {
   "cell_type": "code",
   "execution_count": null,
   "id": "ff61ba84",
   "metadata": {},
   "outputs": [],
   "source": [
    "nulls_percent_numerical[nulls_percent_numerical['nulls_percentage']>0.0].head(60)"
   ]
  },
  {
   "cell_type": "code",
   "execution_count": null,
   "id": "59b2a3eb",
   "metadata": {},
   "outputs": [],
   "source": [
    "#replacing all NaN for the mean\n",
    "mean = numerical.mean()\n",
    "numerical=numerical.fillna(np.ceil(mean))"
   ]
  },
  {
   "cell_type": "code",
   "execution_count": null,
   "id": "9c555ab3",
   "metadata": {},
   "outputs": [],
   "source": [
    "nulls_percent_numerical = pd.DataFrame(numerical.isna().sum()/len(numerical)).reset_index()\n",
    "nulls_percent_numerical\n",
    "nulls_percent_numerical.columns = ['column_name', 'nulls_percentage']\n",
    "nulls_percent_numerical"
   ]
  },
  {
   "cell_type": "code",
   "execution_count": null,
   "id": "9cd3c5a4",
   "metadata": {},
   "outputs": [],
   "source": [
    "#Lab | Handling Data Imbalance in Classification Models\n"
   ]
  },
  {
   "cell_type": "code",
   "execution_count": null,
   "id": "53aa5290",
   "metadata": {},
   "outputs": [],
   "source": [
    "#Instructions\n",
    "#In this lab, we will first take a look at the degree of imbalance in the data and correct it using the techniques we learned in the class.\n",
    "\n",
    "# All done in the Lab before\n",
    "#Here is the list of steps to be followed (building a simple model without balancing the data):\n",
    "#Import the required libraries and modules that you would need.\n",
    "#Read that data into Python and call the dataframe donors.\n",
    "#Check the datatypes of all the columns in the data.\n",
    "#Check for null values in the dataframe. Replace the null values using the methods learned in class.\n",
    "#Split the data into numerical and catagorical. Decide if any columns need their dtype changed.\n",
    "\n",
    "\n",
    "#We are starting from here:\n",
    "#Concatenate numerical and categorical back together again for your X dataframe. Designate the Target as y.\n",
    "#Split the data into a training set and a test set.\n",
    "#Split further into train_num and train_cat. Also test_num and test_cat.\n",
    "#Scale the features either by using normalizer or a standard scaler. (train_num, test_num)\n",
    "#Encode the categorical features using One-Hot Encoding or Ordinal Encoding. (train_cat, test_cat)\n",
    "#fit only on train data transform both train and test\n",
    "#again re-concatenate train_num and train_cat as X_train as well as test_num and test_cat as X_test\n",
    "#Fit a logistic regression model on the training data.\n",
    "#Check the accuracy on the test data.\n",
    "#Note: So far we have not balanced the data.\n",
    "#Managing imbalance in the dataset\n",
    "\n",
    "#Check for the imbalance.\n",
    "#Use the resampling strategies used in class for upsampling and downsampling to create a balance between the two classes.\n",
    "#Each time fit the model and see how the accuracy of the model has changed."
   ]
  },
  {
   "cell_type": "code",
   "execution_count": null,
   "id": "527e0502",
   "metadata": {},
   "outputs": [],
   "source": [
    "numerical"
   ]
  },
  {
   "cell_type": "code",
   "execution_count": null,
   "id": "3e5a4407",
   "metadata": {},
   "outputs": [],
   "source": []
  }
 ],
 "metadata": {
  "kernelspec": {
   "display_name": "Python 3 (ipykernel)",
   "language": "python",
   "name": "python3"
  },
  "language_info": {
   "codemirror_mode": {
    "name": "ipython",
    "version": 3
   },
   "file_extension": ".py",
   "mimetype": "text/x-python",
   "name": "python",
   "nbconvert_exporter": "python",
   "pygments_lexer": "ipython3",
   "version": "3.9.13"
  }
 },
 "nbformat": 4,
 "nbformat_minor": 5
}
